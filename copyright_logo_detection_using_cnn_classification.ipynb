{
 "cells": [
  {
   "cell_type": "markdown",
   "metadata": {},
   "source": [
    "## KLASIFIKASI LOGO UNTUK MENDETEKSI COPYRIGHT MENGGUNAKAN METODE CNN\n",
    "\n",
    "Program ini dibuat untuk menentukan kemiripan gambar logo yang baru dibuat dengan logo-logo yang telah ada yang telah dipelajari oleh mesin dengan metode Convolutional Neural Network.\n",
    "\n",
    "Dev by : Nur Muhammad Erji Ridho Lubis\n",
    "\n",
    "Datasheet : https://drive.google.com/file/d/1XN3dAziIMjs_4_UIV520KF2R2XhxunkN/view?usp=sharing\n"
   ]
  },
  {
   "cell_type": "code",
   "execution_count": 1,
   "metadata": {
    "id": "6XRlI5jDpsKy"
   },
   "outputs": [],
   "source": [
    "# import libraries\n",
    "import numpy as np\n",
    "import matplotlib.pyplot as plt\n",
    "import tensorflow as tf\n",
    "import zipfile,os, io, shutil\n",
    "\n",
    "from ipywidgets import FileUpload\n",
    "from IPython.display import display\n",
    "from PIL import Image\n",
    "\n",
    "# from google.colab import files\n",
    "from keras.preprocessing import image\n",
    "from tensorflow.keras.optimizers import RMSprop\n",
    "from tensorflow.keras.preprocessing.image import ImageDataGenerator\n",
    "from sklearn.model_selection import train_test_split\n",
    "\n",
    "%matplotlib inline"
   ]
  },
  {
   "cell_type": "code",
   "execution_count": 2,
   "metadata": {
    "id": "TNqqhCtpsZrI"
   },
   "outputs": [],
   "source": [
    "# # extract datasheets\n",
    "# local_zip = '/tmp/logo.zip'\n",
    "# zip_ref = zipfile.ZipFile(local_zip, 'r')\n",
    "# zip_ref.extractall('/tmp/logos3')\n",
    "# zip_ref.close()"
   ]
  },
  {
   "cell_type": "code",
   "execution_count": 3,
   "metadata": {},
   "outputs": [],
   "source": [
    "base_dir = '/tmp/logo_fix'\n",
    "logos = os.listdir(base_dir)\n",
    "\n",
    "#inisiasi direktori train & validation\n",
    "train_dir = os.path.join(base_dir, 'train')\n",
    "validation_dir = os.path.join(base_dir, 'val')"
   ]
  },
  {
   "cell_type": "code",
   "execution_count": 4,
   "metadata": {
    "id": "hT56FBrwdaWO"
   },
   "outputs": [],
   "source": [
    "#membuat membuat dan validasi direktori train dan validation\n",
    "if not os.path.exists(train_dir):\n",
    "    os.mkdir(train_dir)\n",
    "if not os.path.exists(validation_dir):\n",
    "    os.mkdir(validation_dir)"
   ]
  },
  {
   "cell_type": "code",
   "execution_count": 5,
   "metadata": {
    "id": "O_5-MVb5Rtvn"
   },
   "outputs": [],
   "source": [
    "#Membagi sampel data\n",
    "data_dir = {}\n",
    "for i in logos:\n",
    "    data_dir[i] = os.path.join(\"/tmp/logo_fix/\"+i)\n",
    "\n",
    "\n",
    "split_data = {}\n",
    "for j in data_dir:\n",
    "    split_data['train_'+ j +'_dir'], split_data['val_'+ j +'_dir'] = train_test_split(os.listdir(data_dir[j]), test_size = 0.2)\n"
   ]
  },
  {
   "cell_type": "code",
   "execution_count": 6,
   "metadata": {
    "id": "kJKEANd9Rtvo"
   },
   "outputs": [],
   "source": [
    "#Menginisiasi directory train dan validation ke masing-masing directory sampel data\n",
    "train = {}\n",
    "val = {}\n",
    "\n",
    "for i in logos:\n",
    "    train['train_'+i] = os.path.join(train_dir, i)\n",
    "    val['val_'+i] = os.path.join(validation_dir, i)\n"
   ]
  },
  {
   "cell_type": "code",
   "execution_count": 7,
   "metadata": {
    "id": "32TOIwhsRtvp"
   },
   "outputs": [],
   "source": [
    "     \n",
    "for i in train:\n",
    "#     print(train[i])\n",
    "    if not os.path.exists(train[i]):\n",
    "        os.mkdir(train[i])\n",
    "\n",
    "for j in val:\n",
    "    if not os.path.exists(val[j]):\n",
    "        os.mkdir(val[j])\n",
    "    "
   ]
  },
  {
   "cell_type": "code",
   "execution_count": 8,
   "metadata": {
    "id": "-Umhp3VYRtvq"
   },
   "outputs": [],
   "source": [
    "#copy data train ke directory baru\n",
    "\n",
    "for i in data_dir:\n",
    "#     split_data['train_'+ j +'_dir']\n",
    "    for j in split_data['train_'+ i +'_dir']:\n",
    "        shutil.copy(os.path.join(data_dir[i], j), os.path.join(train['train_'+i], j))\n",
    "    \n",
    "    for k in split_data['val_'+ i +'_dir']:\n",
    "        shutil.copy(os.path.join(data_dir[i], k), os.path.join(val['val_'+i], k))\n",
    "\n"
   ]
  },
  {
   "cell_type": "code",
   "execution_count": 9,
   "metadata": {
    "id": "G9W-iy8MRtvq"
   },
   "outputs": [],
   "source": [
    "# image augmentation\n",
    "train_datagen = ImageDataGenerator(\n",
    "    rescale = 1./255,\n",
    "    rotation_range = 20,\n",
    "    horizontal_flip = True,\n",
    "    shear_range=0.2,\n",
    "    fill_mode='nearest',\n",
    ")\n",
    "\n",
    "test_datagen = ImageDataGenerator(\n",
    "    rescale = 1./255,\n",
    "    rotation_range = 20,\n",
    "    horizontal_flip = True,\n",
    "    shear_range = 0.2,\n",
    "    fill_mode = 'nearest'\n",
    ")"
   ]
  },
  {
   "cell_type": "code",
   "execution_count": 10,
   "metadata": {
    "colab": {
     "base_uri": "https://localhost:8080/"
    },
    "id": "B3ewpkBJRtvr",
    "outputId": "af986aa1-fde3-45f2-bf86-7bfd3aaac27d"
   },
   "outputs": [
    {
     "name": "stdout",
     "output_type": "stream",
     "text": [
      "Found 4988 images belonging to 10 classes.\n",
      "Found 1253 images belonging to 10 classes.\n"
     ]
    }
   ],
   "source": [
    "# image data generator\n",
    "train_generator = train_datagen.flow_from_directory(\n",
    "    train_dir,\n",
    "    target_size=(150,150),\n",
    "    shuffle=True,\n",
    "    batch_size=32,\n",
    "    #subset='training',\n",
    "    class_mode='categorical'\n",
    ")\n",
    "\n",
    "validation_generator = test_datagen.flow_from_directory(\n",
    "    validation_dir,\n",
    "    target_size=(150,150),\n",
    "    # shuffle=False,\n",
    "    batch_size=32,\n",
    "    #subset='validation',\n",
    "    class_mode='categorical',\n",
    ")"
   ]
  },
  {
   "cell_type": "code",
   "execution_count": 11,
   "metadata": {
    "id": "jvf05FYURtvt"
   },
   "outputs": [],
   "source": [
    "# make CNN architecture\n",
    "model = tf.keras.models.Sequential([\n",
    "    tf.keras.layers.Conv2D(16, (3,3), activation='relu', input_shape=(150, 150, 3)),\n",
    "    tf.keras.layers.MaxPooling2D(2,2),\n",
    "    tf.keras.layers.Conv2D(32, (3,3), activation='relu'),\n",
    "    tf.keras.layers.MaxPooling2D(2,2),\n",
    "    tf.keras.layers.Conv2D(64, (3,3), activation='relu'),\n",
    "    tf.keras.layers.MaxPooling2D(2,2),\n",
    "    tf.keras.layers.Conv2D(128, (3,3), activation='relu'),\n",
    "    tf.keras.layers.MaxPooling2D(2,2),\n",
    "    tf.keras.layers.Flatten(),\n",
    "    tf.keras.layers.Dropout(0.5),\n",
    "    tf.keras.layers.Dense(512, activation='relu'),\n",
    "    tf.keras.layers.Dense(len(logos), activation='softmax')\n",
    "])"
   ]
  },
  {
   "cell_type": "code",
   "execution_count": 12,
   "metadata": {
    "id": "IPSTkt9FRtvt"
   },
   "outputs": [],
   "source": [
    "# compile model dengan 'adam' optimizer loss function 'categorical_crossentropy' \n",
    "model.compile(loss='categorical_crossentropy', optimizer='adam', metrics=['accuracy'])"
   ]
  },
  {
   "cell_type": "code",
   "execution_count": 13,
   "metadata": {
    "colab": {
     "base_uri": "https://localhost:8080/"
    },
    "id": "XGa-0AgcRtvt",
    "outputId": "feb31315-e9bc-4b67-b40b-bacadc3bf6ac"
   },
   "outputs": [
    {
     "name": "stdout",
     "output_type": "stream",
     "text": [
      "Epoch 1/60\n",
      "40/40 - 26s - loss: 1.7201 - accuracy: 0.3531 - val_loss: 0.9997 - val_accuracy: 0.6938\n",
      "Epoch 2/60\n",
      "40/40 - 23s - loss: 0.8574 - accuracy: 0.7117 - val_loss: 0.6167 - val_accuracy: 0.8313\n",
      "Epoch 3/60\n",
      "40/40 - 21s - loss: 0.5684 - accuracy: 0.8158 - val_loss: 0.6880 - val_accuracy: 0.7875\n",
      "Epoch 4/60\n",
      "40/40 - 21s - loss: 0.5380 - accuracy: 0.8386 - val_loss: 0.3882 - val_accuracy: 0.8875\n",
      "Epoch 5/60\n",
      "40/40 - 20s - loss: 0.3861 - accuracy: 0.8617 - val_loss: 0.3888 - val_accuracy: 0.8750\n",
      "Epoch 6/60\n",
      "40/40 - 20s - loss: 0.3285 - accuracy: 0.8864 - val_loss: 0.3505 - val_accuracy: 0.8875\n",
      "Epoch 7/60\n",
      "40/40 - 20s - loss: 0.3050 - accuracy: 0.8773 - val_loss: 0.4158 - val_accuracy: 0.8750\n",
      "Epoch 8/60\n",
      "40/40 - 20s - loss: 0.3345 - accuracy: 0.8891 - val_loss: 0.3446 - val_accuracy: 0.8750\n",
      "Epoch 9/60\n",
      "40/40 - 19s - loss: 0.3012 - accuracy: 0.9039 - val_loss: 0.3109 - val_accuracy: 0.8875\n",
      "Epoch 10/60\n",
      "40/40 - 19s - loss: 0.1755 - accuracy: 0.9389 - val_loss: 0.2305 - val_accuracy: 0.9563\n",
      "Epoch 11/60\n",
      "40/40 - 19s - loss: 0.1755 - accuracy: 0.9461 - val_loss: 0.1482 - val_accuracy: 0.9563\n",
      "Epoch 12/60\n",
      "40/40 - 19s - loss: 0.0883 - accuracy: 0.9695 - val_loss: 0.0665 - val_accuracy: 0.9875\n",
      "Epoch 13/60\n",
      "40/40 - 19s - loss: 0.0862 - accuracy: 0.9734 - val_loss: 0.0896 - val_accuracy: 0.9688\n",
      "Epoch 14/60\n",
      "40/40 - 19s - loss: 0.2054 - accuracy: 0.9359 - val_loss: 0.3814 - val_accuracy: 0.9312\n",
      "Epoch 15/60\n",
      "40/40 - 19s - loss: 0.2722 - accuracy: 0.9289 - val_loss: 0.3967 - val_accuracy: 0.8813\n",
      "Epoch 16/60\n",
      "40/40 - 19s - loss: 0.1215 - accuracy: 0.9608 - val_loss: 0.0538 - val_accuracy: 0.9812\n",
      "Epoch 17/60\n",
      "40/40 - 19s - loss: 0.0931 - accuracy: 0.9679 - val_loss: 0.1072 - val_accuracy: 0.9563\n",
      "Epoch 18/60\n",
      "40/40 - 20s - loss: 0.1023 - accuracy: 0.9703 - val_loss: 0.1452 - val_accuracy: 0.9563\n",
      "Epoch 19/60\n",
      "40/40 - 19s - loss: 0.1170 - accuracy: 0.9625 - val_loss: 0.1625 - val_accuracy: 0.9187\n",
      "Epoch 20/60\n",
      "40/40 - 19s - loss: 0.1084 - accuracy: 0.9664 - val_loss: 0.1008 - val_accuracy: 0.9625\n",
      "Epoch 21/60\n",
      "40/40 - 18s - loss: 0.0910 - accuracy: 0.9773 - val_loss: 0.0622 - val_accuracy: 0.9875\n",
      "Epoch 22/60\n",
      "40/40 - 19s - loss: 0.1080 - accuracy: 0.9711 - val_loss: 0.1073 - val_accuracy: 0.9750\n",
      "Epoch 23/60\n",
      "40/40 - 19s - loss: 0.0709 - accuracy: 0.9781 - val_loss: 0.0571 - val_accuracy: 0.9812\n",
      "Epoch 24/60\n",
      "40/40 - 19s - loss: 0.0554 - accuracy: 0.9828 - val_loss: 0.0267 - val_accuracy: 0.9875\n",
      "Epoch 25/60\n",
      "40/40 - 20s - loss: 0.0390 - accuracy: 0.9859 - val_loss: 0.0656 - val_accuracy: 0.9812\n",
      "Epoch 26/60\n",
      "40/40 - 19s - loss: 0.0477 - accuracy: 0.9875 - val_loss: 0.0522 - val_accuracy: 0.9750\n",
      "Epoch 27/60\n",
      "40/40 - 18s - loss: 0.0174 - accuracy: 0.9961 - val_loss: 0.0454 - val_accuracy: 0.9875\n",
      "Epoch 28/60\n",
      "40/40 - 19s - loss: 0.0369 - accuracy: 0.9875 - val_loss: 0.0452 - val_accuracy: 0.9875\n",
      "Epoch 29/60\n",
      "40/40 - 19s - loss: 0.0652 - accuracy: 0.9804 - val_loss: 0.0479 - val_accuracy: 0.9875\n",
      "Epoch 30/60\n",
      "40/40 - 19s - loss: 0.0184 - accuracy: 0.9953 - val_loss: 0.0370 - val_accuracy: 0.9875\n",
      "Epoch 31/60\n",
      "40/40 - 19s - loss: 0.0338 - accuracy: 0.9852 - val_loss: 0.0495 - val_accuracy: 0.9812\n",
      "Epoch 32/60\n",
      "40/40 - 19s - loss: 0.0405 - accuracy: 0.9875 - val_loss: 0.0659 - val_accuracy: 0.9688\n",
      "Epoch 33/60\n",
      "40/40 - 18s - loss: 0.0251 - accuracy: 0.9930 - val_loss: 0.0119 - val_accuracy: 1.0000\n",
      "Epoch 34/60\n",
      "40/40 - 18s - loss: 0.0315 - accuracy: 0.9883 - val_loss: 0.0473 - val_accuracy: 0.9812\n",
      "Epoch 35/60\n",
      "40/40 - 19s - loss: 0.2288 - accuracy: 0.9398 - val_loss: 0.3539 - val_accuracy: 0.9062\n",
      "Epoch 36/60\n",
      "40/40 - 19s - loss: 0.0898 - accuracy: 0.9734 - val_loss: 0.0477 - val_accuracy: 0.9812\n",
      "Epoch 37/60\n",
      "40/40 - 19s - loss: 0.0269 - accuracy: 0.9914 - val_loss: 0.0191 - val_accuracy: 1.0000\n",
      "Epoch 38/60\n",
      "40/40 - 19s - loss: 0.0159 - accuracy: 0.9922 - val_loss: 0.0137 - val_accuracy: 1.0000\n",
      "Epoch 39/60\n",
      "40/40 - 19s - loss: 0.0203 - accuracy: 0.9953 - val_loss: 0.0367 - val_accuracy: 0.9937\n",
      "Epoch 40/60\n",
      "40/40 - 19s - loss: 0.0147 - accuracy: 0.9945 - val_loss: 0.0162 - val_accuracy: 0.9937\n",
      "Epoch 41/60\n",
      "40/40 - 19s - loss: 0.0168 - accuracy: 0.9961 - val_loss: 0.0025 - val_accuracy: 1.0000\n",
      "Epoch 42/60\n",
      "40/40 - 19s - loss: 0.0087 - accuracy: 0.9969 - val_loss: 0.0049 - val_accuracy: 1.0000\n",
      "Epoch 43/60\n",
      "40/40 - 19s - loss: 0.0042 - accuracy: 1.0000 - val_loss: 0.0017 - val_accuracy: 1.0000\n",
      "Epoch 44/60\n",
      "40/40 - 19s - loss: 0.0295 - accuracy: 0.9898 - val_loss: 0.1196 - val_accuracy: 0.9688\n",
      "Epoch 45/60\n",
      "40/40 - 19s - loss: 0.1057 - accuracy: 0.9664 - val_loss: 0.0468 - val_accuracy: 0.9875\n",
      "Epoch 46/60\n",
      "40/40 - 19s - loss: 0.0656 - accuracy: 0.9836 - val_loss: 0.0632 - val_accuracy: 0.9750\n",
      "Epoch 47/60\n",
      "40/40 - 19s - loss: 0.1757 - accuracy: 0.9641 - val_loss: 0.0802 - val_accuracy: 0.9812\n",
      "Epoch 48/60\n",
      "40/40 - 18s - loss: 0.0787 - accuracy: 0.9727 - val_loss: 0.0470 - val_accuracy: 0.9812\n",
      "Epoch 49/60\n",
      "40/40 - 19s - loss: 0.0152 - accuracy: 0.9945 - val_loss: 0.0121 - val_accuracy: 0.9937\n",
      "Epoch 50/60\n",
      "40/40 - 18s - loss: 0.0148 - accuracy: 0.9961 - val_loss: 0.0060 - val_accuracy: 1.0000\n",
      "Epoch 51/60\n",
      "40/40 - 19s - loss: 0.0174 - accuracy: 0.9937 - val_loss: 0.0286 - val_accuracy: 0.9937\n",
      "Epoch 52/60\n",
      "40/40 - 19s - loss: 0.0702 - accuracy: 0.9789 - val_loss: 0.0415 - val_accuracy: 0.9750\n",
      "Epoch 53/60\n",
      "40/40 - 19s - loss: 0.0691 - accuracy: 0.9781 - val_loss: 0.0421 - val_accuracy: 0.9750\n",
      "Epoch 54/60\n",
      "40/40 - 19s - loss: 0.0445 - accuracy: 0.9859 - val_loss: 0.0119 - val_accuracy: 0.9937\n",
      "Epoch 55/60\n",
      "40/40 - 18s - loss: 0.0141 - accuracy: 0.9977 - val_loss: 0.0313 - val_accuracy: 0.9937\n",
      "Epoch 56/60\n",
      "40/40 - 18s - loss: 0.0304 - accuracy: 0.9937 - val_loss: 0.0469 - val_accuracy: 0.9937\n",
      "Epoch 57/60\n",
      "40/40 - 18s - loss: 0.0366 - accuracy: 0.9906 - val_loss: 0.0177 - val_accuracy: 0.9875\n",
      "Epoch 58/60\n",
      "40/40 - 19s - loss: 0.0174 - accuracy: 0.9953 - val_loss: 0.0015 - val_accuracy: 1.0000\n",
      "Epoch 59/60\n",
      "40/40 - 18s - loss: 0.0095 - accuracy: 0.9977 - val_loss: 0.0059 - val_accuracy: 1.0000\n",
      "Epoch 60/60\n",
      "40/40 - 18s - loss: 0.0074 - accuracy: 0.9977 - val_loss: 0.0296 - val_accuracy: 0.9875\n"
     ]
    }
   ],
   "source": [
    "# latih model dengan model.fi\n",
    "history = model.fit(\n",
    "    train_generator,\n",
    "    steps_per_epoch=40,\n",
    "    epochs=60,\n",
    "    validation_data=validation_generator,\n",
    "    validation_steps=5,\n",
    "    verbose=2,\n",
    ")"
   ]
  },
  {
   "cell_type": "code",
   "execution_count": 16,
   "metadata": {
    "colab": {
     "base_uri": "https://localhost:8080/",
     "height": 499
    },
    "id": "gRSP3D8ORtvu",
    "outputId": "a29bc795-dc8a-4f9f-85ca-468e47700501"
   },
   "outputs": [
    {
     "data": {
      "image/png": "[encoded data removed]",
      "text/plain": [
       "<Figure size 576x576 with 2 Axes>"
      ]
     },
     "metadata": {
      "needs_background": "light"
     },
     "output_type": "display_data"
    },
    {
     "name": "stdout",
     "output_type": "stream",
     "text": [
      "Train loss: 0.013658802025020123 %\n",
      "Train accuracy: 99.59903955459595 %\n"
     ]
    }
   ],
   "source": [
    "# tampilkan hasil akurasi kedalam plot\n",
    "accuracy = history.history['accuracy']\n",
    "val_accuracy = history.history['val_accuracy']\n",
    "\n",
    "loss = history.history['loss']\n",
    "val_loss = history.history['val_loss']\n",
    "\n",
    "epochs_range = range(60)\n",
    "\n",
    "plt.figure(figsize=(8, 8))\n",
    "plt.subplot(1, 2, 1)\n",
    "plt.plot(epochs_range, accuracy, label='Training Accuracy')\n",
    "plt.plot(epochs_range, val_accuracy, label='Validation Accuracy')\n",
    "plt.legend(loc='lower right')\n",
    "plt.title('Training and Validation Accuracy')\n",
    "\n",
    "plt.subplot(1, 2, 2)\n",
    "plt.plot(epochs_range, loss, label='Training Loss')\n",
    "plt.plot(epochs_range, val_loss, label='Validation Loss')\n",
    "plt.legend(loc='upper right')\n",
    "plt.title('Training and Validation Loss')\n",
    "plt.show()\n",
    "\n",
    "score = model.evaluate(train_generator, verbose = 0)\n",
    "print('Train loss:', score[0], \"%\") \n",
    "print('Train accuracy:', score[1] * 100, \"%\")"
   ]
  },
  {
   "cell_type": "code",
   "execution_count": 17,
   "metadata": {
    "colab": {
     "base_uri": "https://localhost:8080/",
     "height": 49,
     "referenced_widgets": [
      "394995b0d4b44eb2841df94fad05721f",
      "0aa07f7d71d646b7ac832854a3661277",
      "3dadec0582e540cdb7bc6a726a9552a2"
     ]
    },
    "id": "pEFi1-Dkm57L",
    "outputId": "58d3151d-aab4-4052-9a4f-eb1775d7ca69"
   },
   "outputs": [
    {
     "data": {
      "application/vnd.jupyter.widget-view+json": {
       "model_id": "a2693eb4c0bf4592a40970011552a184",
       "version_major": 2,
       "version_minor": 0
      },
      "text/plain": [
       "FileUpload(value={}, description='Upload')"
      ]
     },
     "metadata": {},
     "output_type": "display_data"
    }
   ],
   "source": [
    "upload = FileUpload()\n",
    "display(upload)\n",
    "\n"
   ]
  },
  {
   "cell_type": "code",
   "execution_count": 18,
   "metadata": {
    "colab": {
     "base_uri": "https://localhost:8080/",
     "height": 303
    },
    "id": "e4WI1LXem69C",
    "outputId": "daa43a46-9a98-42bb-ab8e-9ee50b5aed2e"
   },
   "outputs": [
    {
     "name": "stdout",
     "output_type": "stream",
     "text": [
      "phone.png\n",
      "kemiripan : \n",
      "dengan whatsapp : 100.0 % mirip\n"
     ]
    },
    {
     "data": {
      "image/png": "[encoded data removed]",
      "text/plain": [
       "<Figure size 432x288 with 1 Axes>"
      ]
     },
     "metadata": {
      "needs_background": "light"
     },
     "output_type": "display_data"
    }
   ],
   "source": [
    "\n",
    "for name, file_info in upload.value.items():\n",
    "    img = Image.open(io.BytesIO(file_info['content']))\n",
    "    img = img.resize((150,150))\n",
    "    imgplot = plt.imshow(img)\n",
    "    x = image.img_to_array(img)\n",
    "    x = np.expand_dims(x, axis=0)\n",
    "    \n",
    "    images = np.vstack([x])\n",
    "    classes = model.predict(images, batch_size=60)\n",
    "    print(name)\n",
    "    \n",
    "    index = 0\n",
    "    n = 0\n",
    "\n",
    "    print(\"kemiripan : \")\n",
    "    \n",
    "    for i in classes[0]:\n",
    "        if i >= 0.50:\n",
    "            n += 1\n",
    "            print(f\"dengan {logos[index]} : {i * 100} % mirip\")\n",
    "#             print(i)\n",
    "        index += 1\n",
    "    \n",
    "    if n == 0:\n",
    "        print(\"Logo tidak terdeteksi Hak Cipta.\")\n",
    "  "
   ]
  },
  {
   "cell_type": "code",
   "execution_count": null,
   "metadata": {},
   "outputs": [],
   "source": []
  },
  {
   "cell_type": "code",
   "execution_count": null,
   "metadata": {},
   "outputs": [],
   "source": []
  }
 ],
 "metadata": {
  "colab": {
   "collapsed_sections": [],
   "name": "copyright_logo_detection_using_cnn.ipynb",
   "provenance": []
  },
  "kernelspec": {
   "display_name": "Python 3 (ipykernel)",
   "language": "python",
   "name": "python3"
  },
  "language_info": {
   "codemirror_mode": {
    "name": "ipython",
    "version": 3
   },
   "file_extension": ".py",
   "mimetype": "text/x-python",
   "name": "python",
   "nbconvert_exporter": "python",
   "pygments_lexer": "ipython3",
   "version": "3.8.8"
  },
  "widgets": {
   "application/vnd.jupyter.widget-state+json": {
    "0aa07f7d71d646b7ac832854a3661277": {
     "model_module": "@jupyter-widgets/controls",
     "model_module_version": "1.5.0",
     "model_name": "ButtonStyleModel",
     "state": {
      "_model_module": "@jupyter-widgets/controls",
      "_model_module_version": "1.5.0",
      "_model_name": "ButtonStyleModel",
      "_view_count": null,
      "_view_module": "@jupyter-widgets/base",
      "_view_module_version": "1.2.0",
      "_view_name": "StyleView",
      "button_color": null,
      "font_weight": ""
     }
    },
    "394995b0d4b44eb2841df94fad05721f": {
     "model_module": "@jupyter-widgets/controls",
     "model_module_version": "1.5.0",
     "model_name": "FileUploadModel",
     "state": {
      "_counter": 1,
      "_dom_classes": [],
      "_model_module": "@jupyter-widgets/controls",
      "_model_module_version": "1.5.0",
      "_model_name": "FileUploadModel",
      "_view_count": null,
      "_view_module": "@jupyter-widgets/controls",
      "_view_module_version": "1.5.0",
      "_view_name": "FileUploadView",
      "accept": ".jpg",
      "button_style": "",
      "data": [
       null
      ],
      "description": "Upload",
      "description_tooltip": null,
      "disabled": false,
      "error": "",
      "icon": "upload",
      "layout": "IPY_MODEL_3dadec0582e540cdb7bc6a726a9552a2",
      "metadata": [
       {
        "lastModified": 1633331108238,
        "name": "tiktok.jpg",
        "size": 690270,
        "type": "image/jpeg"
       }
      ],
      "multiple": false,
      "style": "IPY_MODEL_0aa07f7d71d646b7ac832854a3661277"
     }
    },
    "3dadec0582e540cdb7bc6a726a9552a2": {
     "model_module": "@jupyter-widgets/base",
     "model_module_version": "1.2.0",
     "model_name": "LayoutModel",
     "state": {
      "_model_module": "@jupyter-widgets/base",
      "_model_module_version": "1.2.0",
      "_model_name": "LayoutModel",
      "_view_count": null,
      "_view_module": "@jupyter-widgets/base",
      "_view_module_version": "1.2.0",
      "_view_name": "LayoutView",
      "align_content": null,
      "align_items": null,
      "align_self": null,
      "border": null,
      "bottom": null,
      "display": null,
      "flex": null,
      "flex_flow": null,
      "grid_area": null,
      "grid_auto_columns": null,
      "grid_auto_flow": null,
      "grid_auto_rows": null,
      "grid_column": null,
      "grid_gap": null,
      "grid_row": null,
      "grid_template_areas": null,
      "grid_template_columns": null,
      "grid_template_rows": null,
      "height": null,
      "justify_content": null,
      "justify_items": null,
      "left": null,
      "margin": null,
      "max_height": null,
      "max_width": null,
      "min_height": null,
      "min_width": null,
      "object_fit": null,
      "object_position": null,
      "order": null,
      "overflow": null,
      "overflow_x": null,
      "overflow_y": null,
      "padding": null,
      "right": null,
      "top": null,
      "visibility": null,
      "width": null
     }
    }
   }
  }
 },
 "nbformat": 4,
 "nbformat_minor": 1
}
